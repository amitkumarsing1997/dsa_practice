{
 "cells": [
  {
   "cell_type": "code",
   "execution_count": 1,
   "metadata": {},
   "outputs": [
    {
     "name": "stdout",
     "output_type": "stream",
     "text": [
      "   id    name  age response      random\n",
      "0   1    amit   26      yes     abcamit\n",
      "1   2   sumit   24       no      bcdfad\n",
      "2   3     raj   28    maybe   amitsumit\n",
      "3   4  mayank   30       no  ramkishore\n"
     ]
    }
   ],
   "source": [
    "import pandas as pd\n",
    "import os\n",
    "# data = pd.read_excel(\"C:\\\\Users\\\\sumit\\\\OneDrive\\\\desktop\\\\advantmed_data.xlsx\")\n",
    "data = pd.read_excel(\"D:\\\\interview_files\\\\advantmed_data.xlsx\")\n",
    "\n",
    "\n",
    "# def temp_fun(respone):\n",
    "#     if respone==\"yes\":\n",
    "#         return 1\n",
    "#     else:\n",
    "#         return 0\n",
    "    \n",
    "# data[\"temp_ans\"] = data[\"response\"].apply(lambda x:temp_fun(x))\n",
    "# print(data) \n",
    "\n",
    "def temp_remove_unser_score(random):\n",
    "    ans=\"\"\n",
    "    temp = random.split(\"_\")\n",
    "    for data in temp:\n",
    "        ans=ans+data\n",
    "    return ans\n",
    "\n",
    "data[\"random\"] = data[\"random\"].apply(lambda x:temp_remove_unser_score(x))\n",
    "file_path = \"D:\\\\interview_files\\\\advantmed_data_correct2.xlsx\"\n",
    "if os.path.exists(file_path):\n",
    "    # If the file exists, delete it\n",
    "    os.remove(file_path)\n",
    "data.to_excel(file_path,index=False)\n",
    "print(data) "
   ]
  },
  {
   "cell_type": "code",
   "execution_count": 13,
   "metadata": {},
   "outputs": [],
   "source": [
    "import os\n",
    "import pandas as pd\n",
    "\n",
    "# Assuming 'data' is your DataFrame\n",
    "\n",
    "file_path = \"D:\\\\interview_files\\\\advantmed_data_correct2.xlsx\"\n",
    "\n",
    "# Check if the file exists\n",
    "if os.path.exists(file_path):\n",
    "    # If the file exists, delete it\n",
    "    os.remove(file_path)\n",
    "\n",
    "# Save the DataFrame to Excel\n",
    "data.to_excel(file_path, index=False)\n"
   ]
  },
  {
   "cell_type": "code",
   "execution_count": null,
   "metadata": {},
   "outputs": [],
   "source": []
  }
 ],
 "metadata": {
  "kernelspec": {
   "display_name": "dsa-env",
   "language": "python",
   "name": "python3"
  },
  "language_info": {
   "codemirror_mode": {
    "name": "ipython",
    "version": 3
   },
   "file_extension": ".py",
   "mimetype": "text/x-python",
   "name": "python",
   "nbconvert_exporter": "python",
   "pygments_lexer": "ipython3",
   "version": "3.12.1"
  }
 },
 "nbformat": 4,
 "nbformat_minor": 2
}
